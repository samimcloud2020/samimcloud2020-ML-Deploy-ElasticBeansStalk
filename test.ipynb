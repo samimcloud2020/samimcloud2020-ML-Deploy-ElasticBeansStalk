{
  "nbformat": 4,
  "nbformat_minor": 0,
  "metadata": {
    "colab": {
      "provenance": []
    },
    "kernelspec": {
      "name": "python3",
      "display_name": "Python 3"
    },
    "language_info": {
      "name": "python"
    }
  },
  "cells": [
    {
      "cell_type": "code",
      "execution_count": 1,
      "metadata": {
        "colab": {
          "base_uri": "https://localhost:8080/"
        },
        "id": "A6cLjhjsRVd9",
        "outputId": "150a6da5-e584-46e2-e8e4-c055087f6d3a"
      },
      "outputs": [
        {
          "output_type": "stream",
          "name": "stdout",
          "text": [
            "   Hours  Scores\n",
            "0    2.5      21\n",
            "1    5.1      47\n",
            "2    3.2      27\n",
            "3    8.5      75\n",
            "4    3.5      30\n",
            "Mean Squared Error: 18.94\n",
            "Model saved as 'salary.pkl'\n"
          ]
        }
      ],
      "source": [
        "import pandas as pd\n",
        "import numpy as np\n",
        "import pickle\n",
        "from sklearn.model_selection import train_test_split\n",
        "from sklearn.linear_model import LinearRegression\n",
        "from sklearn.metrics import mean_squared_error\n",
        "\n",
        "# 🔹 Step 1: Load Dataset from URL\n",
        "url = \"https://raw.githubusercontent.com/AdiPersonalWorks/Random/master/student_scores%20-%20student_scores.csv\"\n",
        "df = pd.read_csv(url)\n",
        "\n",
        "# Display first few rows\n",
        "print(df.head())\n",
        "\n",
        "# 🔹 Step 2: Prepare Data\n",
        "X = df.drop(columns=[\"Scores\"])  # Features (e.g., Hours studied)\n",
        "y = df[\"Scores\"]  # Target (Salary in this case)\n",
        "\n",
        "# Split into training (80%) and testing (20%)\n",
        "X_train, X_test, y_train, y_test = train_test_split(X, y, test_size=0.2, random_state=42)\n",
        "\n",
        "# 🔹 Step 3: Train Linear Regression Model\n",
        "model = LinearRegression()\n",
        "model.fit(X_train, y_train)\n",
        "\n",
        "# 🔹 Step 4: Evaluate Model\n",
        "y_pred = model.predict(X_test)\n",
        "mse = mean_squared_error(y_test, y_pred)\n",
        "print(f\"Mean Squared Error: {mse:.2f}\")\n",
        "\n",
        "# 🔹 Step 5: Save Model as `.pkl`\n",
        "with open('salary.pkl','wb') as f:\n",
        "    pickle.dump(model, f)\n",
        "    print(\"Model saved as 'salary.pkl'\")\n"
      ]
    },
    {
      "cell_type": "code",
      "source": [
        "import numpy as np\n",
        "\n",
        "# 🔹 Step 1: Load the Trained Model\n",
        "# Open the file in read-binary mode ('rb')\n",
        "with open(\"salary.pkl\", 'rb') as f:\n",
        "    model = pickle.load(f)\n",
        "print(\"Model loaded successfully.\")\n",
        "\n",
        "# 🔹 Step 2: Take User Input\n",
        "hours = float(input(\"Enter hours of study: \"))  # Assuming 'Hours' is the feature\n",
        "\n",
        "# 🔹 Step 3: Convert Input to NumPy Array\n",
        "sample_input = np.array([hours]).reshape(1, -1)\n",
        "\n",
        "# 🔹 Step 4: Make Prediction\n",
        "predicted_salary = model.predict(sample_input)\n",
        "\n",
        "# 🔹 Step 5: Display Prediction\n",
        "print(f\"\\nPredicted Salary: ${predicted_salary[0]:.2f}\")"
      ],
      "metadata": {
        "colab": {
          "base_uri": "https://localhost:8080/"
        },
        "id": "DZ33XDSTSpAE",
        "outputId": "adebbce6-422d-447f-bff8-c4e577abb916"
      },
      "execution_count": 5,
      "outputs": [
        {
          "output_type": "stream",
          "name": "stdout",
          "text": [
            "Model loaded successfully.\n",
            "Enter hours of study: 2\n",
            "\n",
            "Predicted Salary: $22.19\n"
          ]
        },
        {
          "output_type": "stream",
          "name": "stderr",
          "text": [
            "/usr/local/lib/python3.11/dist-packages/sklearn/utils/validation.py:2739: UserWarning: X does not have valid feature names, but LinearRegression was fitted with feature names\n",
            "  warnings.warn(\n"
          ]
        }
      ]
    },
    {
      "cell_type": "code",
      "source": [],
      "metadata": {
        "id": "U1fT502wSpD0"
      },
      "execution_count": null,
      "outputs": []
    }
  ]
}